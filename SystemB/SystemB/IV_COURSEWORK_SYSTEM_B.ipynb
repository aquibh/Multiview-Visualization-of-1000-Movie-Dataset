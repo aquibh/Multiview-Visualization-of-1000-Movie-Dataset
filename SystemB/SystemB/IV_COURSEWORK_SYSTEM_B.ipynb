{
 "cells": [
  {
   "cell_type": "code",
   "execution_count": 1,
   "id": "0a941f5c",
   "metadata": {},
   "outputs": [
    {
     "name": "stderr",
     "output_type": "stream",
     "text": [
      "C:\\Users\\abhij\\AppData\\Local\\Temp\\ipykernel_18032\\2393940737.py:6: FutureWarning: The default value of regex will change from True to False in a future version. In addition, single character regular expressions will *not* be treated as literal strings when regex=True.\n",
      "  df['Year'] = df['Year'].str.replace('(', '')\n",
      "C:\\Users\\abhij\\AppData\\Local\\Temp\\ipykernel_18032\\2393940737.py:7: FutureWarning: The default value of regex will change from True to False in a future version. In addition, single character regular expressions will *not* be treated as literal strings when regex=True.\n",
      "  df['Year'] = df['Year'].str.replace(')', '')\n",
      "C:\\Users\\abhij\\AppData\\Local\\Temp\\ipykernel_18032\\2393940737.py:10: FutureWarning: The default value of regex will change from True to False in a future version. In addition, single character regular expressions will *not* be treated as literal strings when regex=True.\n",
      "  df['GROSS'] = df['GROSS'].str.replace('$', '')\n"
     ]
    }
   ],
   "source": [
    "#Pre processing of the data\n",
    "#Loading the dataset\n",
    "import pandas as pd\n",
    "df=pd.read_csv(\"D:/UOFG/SEM2/IV/Coursework/SystemB/imdb1000moviesinjune2022.csv\")\n",
    "df['Year'] = df['Year'].str.replace('-', '')\n",
    "df['Year'] = df['Year'].str.replace('(', '')\n",
    "df['Year'] = df['Year'].str.replace(')', '')\n",
    "df['Year'] = df['Year'].str.replace('I', '')\n",
    "df['GROSS'] = df['GROSS'].str.replace('M', '')\n",
    "df['GROSS'] = df['GROSS'].str.replace('$', '')\n",
    "df.dropna(inplace=True)\n",
    "df['genre_new'] = df['genre'].str.split(',').str[0]\n",
    "df['Year'] = df['Year'].astype(int)\n",
    "df['GROSS'] = (df['GROSS'].astype(float)\n",
    "                             .round(0)\n",
    "                             .astype(int))\n",
    "def categorize_year(Year):\n",
    "    if Year >= 1900:\n",
    "        decade_start = (Year // 10) * 10\n",
    "        decade_end = decade_start + 9\n",
    "        return f\"{decade_start}-{decade_end}\"\n",
    "    else:\n",
    "        return \"Before 1900\"\n",
    "\n",
    "df['Decade'] = df['Year'].apply(categorize_year)\n",
    "df[['Year', 'Decade']].head()\n",
    "\n",
    "df.to_csv('D:/UOFG/SEM2/IV/Coursework/SystemB/modified_data.csv', index=False)"
   ]
  },
  {
   "cell_type": "code",
   "execution_count": 2,
   "id": "62da7a31",
   "metadata": {},
   "outputs": [
    {
     "name": "stderr",
     "output_type": "stream",
     "text": [
      "D:\\Anaconda\\lib\\site-packages\\altair\\utils\\deprecation.py:65: AltairDeprecationWarning: 'selection' is deprecated.\n",
      "   Use 'selection_point()' or 'selection_interval()' instead; these functions also include more helpful docstrings.\n",
      "  warnings.warn(message, AltairDeprecationWarning, stacklevel=1)\n",
      "D:\\Anaconda\\lib\\site-packages\\altair\\utils\\deprecation.py:65: AltairDeprecationWarning: 'add_selection' is deprecated. Use 'add_params' instead.\n",
      "  warnings.warn(message, AltairDeprecationWarning, stacklevel=1)\n"
     ]
    }
   ],
   "source": [
    "#System B\n",
    "\n",
    "\n",
    "import altair as alt\n",
    "import pandas as pd\n",
    "\n",
    "# Load the dataset\n",
    "df = pd.read_csv('D:/UOFG/SEM2/IV/Coursework/SystemB/modified_Data.csv')\n",
    "\n",
    "# Define a selection for brushing and linking\n",
    "brush = alt.selection(type='interval', encodings=['x'])\n",
    "\n",
    "# Define the color scheme\n",
    "color_scheme = alt.Scale(scheme='tableau20')\n",
    "\n",
    "# Bar chart of average gross earnings by genre with interactive brushing\n",
    "bar_chart = alt.Chart(df).mark_bar().encode(\n",
    "    alt.X('genre_new:N', title='Genre'),\n",
    "    alt.Y('average(GROSS):Q', title='Average Gross Earnings(in million)'),\n",
    "    color=alt.condition(brush, alt.Color('genre_new:N', scale=color_scheme), alt.value('lightgray')),\n",
    "    tooltip=['genre_new', 'average(GROSS)']\n",
    ").properties(\n",
    "    title='Average Gross Earnings by Genre',\n",
    "    width=300,\n",
    "    height=300\n",
    ").add_selection(\n",
    "    brush\n",
    ")\n",
    "\n",
    "# Heat map of average metascore by genre over time with brushing and linking\n",
    "heat_map = alt.Chart(df).mark_rect().encode(\n",
    "    alt.X('Decade:O', title='Year'),\n",
    "    alt.Y('genre_new:N', title='Genre'),\n",
    "    color=alt.condition(brush, 'average(metascore):Q', alt.value('lightgray')),  # Removed custom scale\n",
    "    tooltip=['Decade', 'genre_new', alt.Tooltip('average(metascore)', title='Average Metascore')]\n",
    ").properties(\n",
    "    title='Average Metascore by Genre Over Time',\n",
    "    width=300,\n",
    "    height=300\n",
    ").add_selection(\n",
    "    brush\n",
    ")\n",
    "\n",
    "stacked_bar_chart = alt.Chart(df).mark_bar().encode(\n",
    "    alt.Y('certificate:N', title='Certificate'),\n",
    "    alt.X('sum(GROSS):Q', title='Gross Earnings(in million)'),\n",
    "    color=alt.Color('genre_new:N', scale=color_scheme),\n",
    "    tooltip=['certificate', 'genre_new', alt.Tooltip('sum(GROSS)', title='Gross Earnings(in million)')]\n",
    ").properties(\n",
    "    title='Gross Earnings by Movie Certificate',\n",
    "    width=300,\n",
    "    height=300\n",
    ").add_selection(\n",
    "    brush\n",
    ")\n",
    "\n",
    "\n",
    "text_overlay = alt.Chart(df).mark_text(align='left', baseline='middle', dx=3).encode(\n",
    "    alt.Y('certificate:N'),\n",
    "    alt.X('sum(GROSS):Q', stack='zero'),\n",
    "    text=alt.Text('sum(GROSS):Q'),\n",
    "    color=alt.value('black')  \n",
    ").transform_filter(\n",
    "    brush\n",
    ")\n",
    "\n",
    "final_stacked_bar_chart = (stacked_bar_chart + text_overlay).resolve_scale(color='independent')\n",
    "final_chart = alt.hconcat(bar_chart, heat_map, final_stacked_bar_chart).resolve_scale(y='independent')\n",
    "final_chart.save('D:/UOFG/SEM2/IV/Coursework/SystemB/sysB.html')\n"
   ]
  },
  {
   "cell_type": "code",
   "execution_count": null,
   "id": "886fa7d8",
   "metadata": {},
   "outputs": [],
   "source": []
  }
 ],
 "metadata": {
  "kernelspec": {
   "display_name": "Python 3 (ipykernel)",
   "language": "python",
   "name": "python3"
  },
  "language_info": {
   "codemirror_mode": {
    "name": "ipython",
    "version": 3
   },
   "file_extension": ".py",
   "mimetype": "text/x-python",
   "name": "python",
   "nbconvert_exporter": "python",
   "pygments_lexer": "ipython3",
   "version": "3.10.9"
  }
 },
 "nbformat": 4,
 "nbformat_minor": 5
}
