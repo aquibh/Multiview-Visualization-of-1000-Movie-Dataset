{
 "cells": [
  {
   "cell_type": "code",
   "execution_count": 1,
   "id": "55e634b6",
   "metadata": {},
   "outputs": [
    {
     "name": "stderr",
     "output_type": "stream",
     "text": [
      "C:\\Users\\abhij\\AppData\\Local\\Temp\\ipykernel_9728\\1333697793.py:6: FutureWarning: The default value of regex will change from True to False in a future version. In addition, single character regular expressions will *not* be treated as literal strings when regex=True.\n",
      "  df['Year'] = df['Year'].str.replace('(', '')\n",
      "C:\\Users\\abhij\\AppData\\Local\\Temp\\ipykernel_9728\\1333697793.py:7: FutureWarning: The default value of regex will change from True to False in a future version. In addition, single character regular expressions will *not* be treated as literal strings when regex=True.\n",
      "  df['Year'] = df['Year'].str.replace(')', '')\n",
      "C:\\Users\\abhij\\AppData\\Local\\Temp\\ipykernel_9728\\1333697793.py:10: FutureWarning: The default value of regex will change from True to False in a future version. In addition, single character regular expressions will *not* be treated as literal strings when regex=True.\n",
      "  df['GROSS'] = df['GROSS'].str.replace('$', '')\n"
     ]
    }
   ],
   "source": [
    "#Pre processing of the data\n",
    "#Loading the dataset\n",
    "import pandas as pd\n",
    "df=pd.read_csv(\"D:/UOFG/SEM2/IV/Coursework/SystemA/imdb1000moviesinjune2022.csv\")\n",
    "df['Year'] = df['Year'].str.replace('-', '')\n",
    "df['Year'] = df['Year'].str.replace('(', '')\n",
    "df['Year'] = df['Year'].str.replace(')', '')\n",
    "df['Year'] = df['Year'].str.replace('I', '')\n",
    "df['GROSS'] = df['GROSS'].str.replace('M', '')\n",
    "df['GROSS'] = df['GROSS'].str.replace('$', '')\n",
    "df.dropna(inplace=True)\n",
    "df['genre_new'] = df['genre'].str.split(',').str[0]\n",
    "df['Year'] = df['Year'].astype(int)\n",
    "df['GROSS'] = (df['GROSS'].astype(float)\n",
    "                             .round(0)\n",
    "                             .astype(int))\n",
    "def categorize_year(Year):\n",
    "    if Year >= 1900:\n",
    "        decade_start = (Year // 10) * 10\n",
    "        decade_end = decade_start + 9\n",
    "        return f\"{decade_start}-{decade_end}\"\n",
    "    else:\n",
    "        return \"Before 1900\"\n",
    "\n",
    "df['Decade'] = df['Year'].apply(categorize_year)\n",
    "df[['Year', 'Decade']].head()\n",
    "\n",
    "df.to_csv('D:/UOFG/SEM2/IV/Coursework/SystemA/modified_data.csv', index=False)"
   ]
  },
  {
   "cell_type": "code",
   "execution_count": 2,
   "id": "9250a19b",
   "metadata": {},
   "outputs": [
    {
     "name": "stderr",
     "output_type": "stream",
     "text": [
      "D:\\Anaconda\\lib\\site-packages\\altair\\utils\\deprecation.py:65: AltairDeprecationWarning: 'selection_multi' is deprecated.  Use 'selection_point'\n",
      "  warnings.warn(message, AltairDeprecationWarning, stacklevel=1)\n",
      "D:\\Anaconda\\lib\\site-packages\\altair\\utils\\deprecation.py:65: AltairDeprecationWarning: 'add_selection' is deprecated. Use 'add_params' instead.\n",
      "  warnings.warn(message, AltairDeprecationWarning, stacklevel=1)\n"
     ]
    }
   ],
   "source": [
    "#System A\n",
    "\n",
    "import altair as alt\n",
    "import pandas as pd\n",
    "\n",
    "# Load the dataset\n",
    "df = pd.read_csv('D:/UOFG/SEM2/IV/Coursework/SystemA/modified_Data.csv')\n",
    "df['Decade'] = df['Decade'].astype(str)\n",
    "\n",
    "\n",
    "colors = ['#e6194b', '#3cb44b', '#ffe119', '#4363d8', '#f58231', '#911eb4', '#46f0f0', '#f032e6', '#bcf60c', '#fabebe', '#008080', '#e6beff', '#9a6324', '#fffac8', '#800000', '#aaffc3', '#808000', '#ffd8b1', '#000075', '#808080', '#ffffff', '#000000']\n",
    "color_dict = {genre: color for genre, color in zip(df['genre_new'].unique(), colors)}\n",
    "\n",
    "\n",
    "color_encoding = alt.Color('genre_new:N', scale=alt.Scale(domain=list(color_dict.keys()), range=list(color_dict.values())))\n",
    "\n",
    "\n",
    "selection_genre = alt.selection_multi(fields=['genre_new'], name=\"Genre\")\n",
    "selection_certificate = alt.selection_multi(fields=['certificate'], name=\"Certificate\")\n",
    "selection_decade = alt.selection_interval(encodings=['x'], name=\"Decade\") \n",
    "\n",
    "donut_chart = alt.Chart(df).mark_arc(innerRadius=100).encode(\n",
    "    theta=alt.Theta(field='GROSS', aggregate='average', type='quantitative'),\n",
    "    color=alt.condition(selection_genre, color_encoding, alt.value('lightgray')),\n",
    "    tooltip=[alt.Tooltip('genre_new', title='Genre'), alt.Tooltip('average(GROSS)', title='Average Gross(in million)', format=',.2f')]\n",
    ").transform_filter(\n",
    "    selection_decade  \n",
    ").properties(\n",
    "    title='Average Gross(in million) by Genre',\n",
    "    width=400,\n",
    "    height=400\n",
    ").add_selection(selection_genre)\n",
    "\n",
    "# Create the line chart with color scheme and interaction\n",
    "chart2 = alt.Chart(df).mark_line(point=True).encode(\n",
    "    x=alt.X('Decade:N', title='Decade'),\n",
    "    y=alt.Y('average(metascore):Q', title='Average Metascore'),\n",
    "    color=alt.condition(selection_genre, color_encoding, alt.value('lightgray')), \n",
    "    tooltip=['genre_new:N', 'Decade:N', 'average(metascore):Q']\n",
    ").transform_filter(\n",
    "    selection_genre\n",
    ").properties(\n",
    "    title=\"Average metascore by Genre over time\",\n",
    "    width=700,\n",
    "    height=240\n",
    ").add_selection(\n",
    "    selection_genre,\n",
    "    selection_decade \n",
    ")\n",
    "\n",
    "\n",
    "color_dict_cert = {cert: color for cert, color in zip(df['certificate'].unique(), colors)}\n",
    "color_encoding_cert = alt.Color('certificate:N', scale=alt.Scale(domain=list(color_dict_cert.keys()), range=list(color_dict_cert.values())))\n",
    "chart3 = alt.Chart(df).mark_bar().encode(\n",
    "    x=alt.X('certificate', title='Certificate'),\n",
    "    y=alt.Y('sum(GROSS)', title='Total Gross(in million)', axis=alt.Axis(format=',.2f')),\n",
    "    color=alt.condition(selection_certificate, color_encoding_cert, alt.value('lightgray')),  # Change color encoding here\n",
    "    tooltip=[alt.Tooltip('certificate', title='Certificate'), alt.Tooltip('sum(GROSS)', title='Total Gross(in million)', format=',.2f')]\n",
    ").properties(\n",
    "    title=\"Gross earnings based on movie certificate\",\n",
    "    width=300,\n",
    "    height=200\n",
    ").add_selection(selection_certificate)\n",
    "\n",
    "left_charts = alt.vconcat(donut_chart, chart3).resolve_scale(color='independent')\n",
    "final_chart = alt.hconcat(left_charts, chart2).resolve_scale(y='independent')\n",
    "final_chart.save('D:/UOFG/SEM2/IV/Coursework/SystemA/sysA.html')\n"
   ]
  },
  {
   "cell_type": "code",
   "execution_count": null,
   "id": "07546800",
   "metadata": {},
   "outputs": [],
   "source": []
  }
 ],
 "metadata": {
  "kernelspec": {
   "display_name": "Python 3 (ipykernel)",
   "language": "python",
   "name": "python3"
  },
  "language_info": {
   "codemirror_mode": {
    "name": "ipython",
    "version": 3
   },
   "file_extension": ".py",
   "mimetype": "text/x-python",
   "name": "python",
   "nbconvert_exporter": "python",
   "pygments_lexer": "ipython3",
   "version": "3.10.9"
  }
 },
 "nbformat": 4,
 "nbformat_minor": 5
}
